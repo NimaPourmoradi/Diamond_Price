{
 "cells": [
  {
   "cell_type": "markdown",
   "id": "54e9d7ce-3e5f-4929-beb1-89c52865c027",
   "metadata": {},
   "source": [
    "<a id=\"1\"></a>\n",
    "# <b><p style=\"background-image: url();font-family:tahoma;font-size:120%;color:Navy;text-align:center;border-radius:15px 50px; padding:7px; border:solid 2px #09375b; box-shadow: 10px 10px 10px #042b4c\"> Table Of Content</p></b>"
   ]
  },
  {
   "cell_type": "markdown",
   "id": "f0bb74bd-b58f-4d94-b13d-d6d054d9c731",
   "metadata": {},
   "source": [
    "<a id=\"content\"></a>    \n",
    "<div style=\"border-radius:20px; padding: 15px; font-size:100%; text-align:left; background-image: url(); background-size: cover\">\n",
    "\n",
    "## <span style=\"text-align:center; font-weight:bolder; color:navy; font-size:130%\">Table of Contents:</span>\n",
    "\n",
    " * **[Step 1 | Python Libraries](#setup)**\n",
    "    -  [1.1 | Import Libraries](#import)\n",
    "    -  [1.2 | Library configurations](#config)\n",
    " *  **[Step 2 | Data](#data)**\n",
    "    -  [2.1 | Importing Data](#load_data)\n",
    "    -  [2.2 | Data Informations](#info)\n",
    "    -  [2.3 | Columns Explanation](#col)\n",
    " *  **[Step 3 | visualizations](#visualizations)**\n",
    "    -  [3.1 | Plots](#plots)\n",
    "    -  [3.2 | Coorelations](#corr)\n",
    " *  **[Step 4 | Preprocessing](#prep)**\n",
    "    -  [4.1 | Missing Values Handling](#missing)\n",
    "    -  [4.2 | Normalization](#norm)\n",
    " *  **[Step 5 | Modeling](#ml)**\n",
    "    -  [5.1 | Initialization](#init)\n",
    "    -  [5.2 | LogisticRegression](#lr)\n",
    "    -  [5.3 | RandomForestClassifier](#rf)\n",
    "    -  [5.4 | MLPClassifier](#mlp)\n",
    "    -  [5.5 | KNeighborsClassifier](#knn)\n",
    "    -  [5.6 | Result](#result)\n",
    " *  **[Author](#author)**"
   ]
  },
  {
   "cell_type": "code",
   "execution_count": 1,
   "id": "beccfd4f-2de4-4ef5-b796-0b7078c37250",
   "metadata": {},
   "outputs": [
    {
     "name": "stdout",
     "output_type": "stream",
     "text": [
      "\u001b[32mAll libraries imported succesfully\u001b[0m\n"
     ]
    }
   ],
   "source": [
    "import pandas as pd\n",
    "import numpy as np\n",
    "import matplotlib.pyplot as plt\n",
    "import seaborn as sns\n",
    "import warnings\n",
    "from termcolor import colored\n",
    "\n",
    "from sklearn.preprocessing import MinMaxScaler\n",
    "from sklearn.model_selection import train_test_split, GridSearchCV\n",
    "from sklearn import metrics\n",
    "from sklearn.linear_model import LinearRegression\n",
    "from sklearn.ensemble import RandomForestRegressor\n",
    "\n",
    "print(colored('All libraries imported succesfully', 'green'))"
   ]
  },
  {
   "cell_type": "code",
   "execution_count": 2,
   "id": "056cf55c-6788-47e8-96a8-767cecab990a",
   "metadata": {},
   "outputs": [],
   "source": [
    "pd.options.mode.copy_on_write = True # Allow re-write on variable\n",
    "sns.set_style('darkgrid') # Seaborn style\n",
    "warnings.filterwarnings('ignore') # Ignore warnings\n",
    "pd.set_option('display.max_columns', None) # Setting this option will print all collumns of a dataframe\n",
    "pd.set_option('display.max_colwidth', None) # Setting this option will print all of the data in a feature"
   ]
  },
  {
   "cell_type": "code",
   "execution_count": 3,
   "id": "b37a5784-efcc-4072-a9a8-f4310e979c9d",
   "metadata": {},
   "outputs": [
    {
     "name": "stdout",
     "output_type": "stream",
     "text": [
      "\u001b[32m\n",
      "All libraries Configed succesfully.\u001b[0m\n"
     ]
    }
   ],
   "source": [
    "print(colored('\\nAll libraries Configed succesfully.', 'green'))"
   ]
  },
  {
   "cell_type": "markdown",
   "id": "368f11a1-0c0e-441b-9946-56952b4e57be",
   "metadata": {},
   "source": [
    "# import data"
   ]
  },
  {
   "cell_type": "code",
   "execution_count": 4,
   "id": "8ce794cd-879d-4202-bd07-b392022bc12e",
   "metadata": {},
   "outputs": [
    {
     "data": {
      "text/html": [
       "<div>\n",
       "<style scoped>\n",
       "    .dataframe tbody tr th:only-of-type {\n",
       "        vertical-align: middle;\n",
       "    }\n",
       "\n",
       "    .dataframe tbody tr th {\n",
       "        vertical-align: top;\n",
       "    }\n",
       "\n",
       "    .dataframe thead th {\n",
       "        text-align: right;\n",
       "    }\n",
       "</style>\n",
       "<table border=\"1\" class=\"dataframe\">\n",
       "  <thead>\n",
       "    <tr style=\"text-align: right;\">\n",
       "      <th></th>\n",
       "      <th>Unnamed: 0</th>\n",
       "      <th>carat</th>\n",
       "      <th>cut</th>\n",
       "      <th>color</th>\n",
       "      <th>clarity</th>\n",
       "      <th>depth</th>\n",
       "      <th>table</th>\n",
       "      <th>price</th>\n",
       "      <th>x</th>\n",
       "      <th>y</th>\n",
       "      <th>z</th>\n",
       "    </tr>\n",
       "  </thead>\n",
       "  <tbody>\n",
       "    <tr>\n",
       "      <th>0</th>\n",
       "      <td>1</td>\n",
       "      <td>0.23</td>\n",
       "      <td>Ideal</td>\n",
       "      <td>E</td>\n",
       "      <td>SI2</td>\n",
       "      <td>61.5</td>\n",
       "      <td>55.0</td>\n",
       "      <td>326</td>\n",
       "      <td>3.95</td>\n",
       "      <td>3.98</td>\n",
       "      <td>2.43</td>\n",
       "    </tr>\n",
       "    <tr>\n",
       "      <th>1</th>\n",
       "      <td>2</td>\n",
       "      <td>0.21</td>\n",
       "      <td>Premium</td>\n",
       "      <td>E</td>\n",
       "      <td>SI1</td>\n",
       "      <td>59.8</td>\n",
       "      <td>61.0</td>\n",
       "      <td>326</td>\n",
       "      <td>3.89</td>\n",
       "      <td>3.84</td>\n",
       "      <td>2.31</td>\n",
       "    </tr>\n",
       "    <tr>\n",
       "      <th>2</th>\n",
       "      <td>3</td>\n",
       "      <td>0.23</td>\n",
       "      <td>Good</td>\n",
       "      <td>E</td>\n",
       "      <td>VS1</td>\n",
       "      <td>56.9</td>\n",
       "      <td>65.0</td>\n",
       "      <td>327</td>\n",
       "      <td>4.05</td>\n",
       "      <td>4.07</td>\n",
       "      <td>2.31</td>\n",
       "    </tr>\n",
       "    <tr>\n",
       "      <th>3</th>\n",
       "      <td>4</td>\n",
       "      <td>0.29</td>\n",
       "      <td>Premium</td>\n",
       "      <td>I</td>\n",
       "      <td>VS2</td>\n",
       "      <td>62.4</td>\n",
       "      <td>58.0</td>\n",
       "      <td>334</td>\n",
       "      <td>4.20</td>\n",
       "      <td>4.23</td>\n",
       "      <td>2.63</td>\n",
       "    </tr>\n",
       "    <tr>\n",
       "      <th>4</th>\n",
       "      <td>5</td>\n",
       "      <td>0.31</td>\n",
       "      <td>Good</td>\n",
       "      <td>J</td>\n",
       "      <td>SI2</td>\n",
       "      <td>63.3</td>\n",
       "      <td>58.0</td>\n",
       "      <td>335</td>\n",
       "      <td>4.34</td>\n",
       "      <td>4.35</td>\n",
       "      <td>2.75</td>\n",
       "    </tr>\n",
       "  </tbody>\n",
       "</table>\n",
       "</div>"
      ],
      "text/plain": [
       "   Unnamed: 0  carat      cut color clarity  depth  table  price     x     y  \\\n",
       "0           1   0.23    Ideal     E     SI2   61.5   55.0    326  3.95  3.98   \n",
       "1           2   0.21  Premium     E     SI1   59.8   61.0    326  3.89  3.84   \n",
       "2           3   0.23     Good     E     VS1   56.9   65.0    327  4.05  4.07   \n",
       "3           4   0.29  Premium     I     VS2   62.4   58.0    334  4.20  4.23   \n",
       "4           5   0.31     Good     J     SI2   63.3   58.0    335  4.34  4.35   \n",
       "\n",
       "      z  \n",
       "0  2.43  \n",
       "1  2.31  \n",
       "2  2.31  \n",
       "3  2.63  \n",
       "4  2.75  "
      ]
     },
     "execution_count": 4,
     "metadata": {},
     "output_type": "execute_result"
    }
   ],
   "source": [
    "data = pd.read_csv('diamonds.csv')\n",
    "data.head()"
   ]
  },
  {
   "cell_type": "code",
   "execution_count": 5,
   "id": "39cf0326-5953-47b3-b5ee-7d3d78de6bf0",
   "metadata": {},
   "outputs": [],
   "source": [
    "# drop first column (Unnamed: 0)\n",
    "data.drop(columns='Unnamed: 0', inplace=True)"
   ]
  },
  {
   "cell_type": "code",
   "execution_count": 6,
   "id": "440cf193-07ea-44d8-902a-3cbdff59086a",
   "metadata": {},
   "outputs": [
    {
     "name": "stdout",
     "output_type": "stream",
     "text": [
      "<class 'pandas.core.frame.DataFrame'>\n",
      "RangeIndex: 53940 entries, 0 to 53939\n",
      "Data columns (total 10 columns):\n",
      " #   Column   Non-Null Count  Dtype  \n",
      "---  ------   --------------  -----  \n",
      " 0   carat    53940 non-null  float64\n",
      " 1   cut      53940 non-null  object \n",
      " 2   color    53940 non-null  object \n",
      " 3   clarity  53940 non-null  object \n",
      " 4   depth    53940 non-null  float64\n",
      " 5   table    53940 non-null  float64\n",
      " 6   price    53940 non-null  int64  \n",
      " 7   x        53940 non-null  float64\n",
      " 8   y        53940 non-null  float64\n",
      " 9   z        53940 non-null  float64\n",
      "dtypes: float64(6), int64(1), object(3)\n",
      "memory usage: 4.1+ MB\n"
     ]
    }
   ],
   "source": [
    "data.info()"
   ]
  },
  {
   "cell_type": "code",
   "execution_count": 7,
   "id": "840a8051-4ebf-437a-b69b-de4e16123808",
   "metadata": {},
   "outputs": [],
   "source": [
    "categoricals = ['cut', 'color', 'clarity']\n",
    "non_categoricals = ['carat', 'depth', 'table', 'price', 'x', 'y', 'z']"
   ]
  },
  {
   "cell_type": "code",
   "execution_count": 8,
   "id": "6b7374b8-b1f1-4562-bee3-305248a51499",
   "metadata": {},
   "outputs": [
    {
     "data": {
      "text/html": [
       "<style type=\"text/css\">\n",
       "#T_9772d_row0_col0, #T_9772d_row1_col2, #T_9772d_row2_col2, #T_9772d_row3_col0, #T_9772d_row4_col0, #T_9772d_row5_col0, #T_9772d_row6_col0 {\n",
       "  background-color: #fff7fb;\n",
       "  color: #000000;\n",
       "}\n",
       "#T_9772d_row0_col1 {\n",
       "  background-color: #ede7f2;\n",
       "  color: #000000;\n",
       "}\n",
       "#T_9772d_row0_col2 {\n",
       "  background-color: #f7f0f7;\n",
       "  color: #000000;\n",
       "}\n",
       "#T_9772d_row0_col3, #T_9772d_row1_col3, #T_9772d_row2_col3, #T_9772d_row3_col3, #T_9772d_row4_col3, #T_9772d_row5_col3, #T_9772d_row6_col3 {\n",
       "  background-color: #023858;\n",
       "  color: #f1f1f1;\n",
       "}\n",
       "#T_9772d_row1_col0 {\n",
       "  background-color: #62a2cb;\n",
       "  color: #f1f1f1;\n",
       "}\n",
       "#T_9772d_row1_col1 {\n",
       "  background-color: #056ba7;\n",
       "  color: #f1f1f1;\n",
       "}\n",
       "#T_9772d_row2_col0 {\n",
       "  background-color: #8cb3d5;\n",
       "  color: #000000;\n",
       "}\n",
       "#T_9772d_row2_col1 {\n",
       "  background-color: #4496c3;\n",
       "  color: #f1f1f1;\n",
       "}\n",
       "#T_9772d_row3_col1 {\n",
       "  background-color: #dddbec;\n",
       "  color: #000000;\n",
       "}\n",
       "#T_9772d_row3_col2 {\n",
       "  background-color: #dcdaeb;\n",
       "  color: #000000;\n",
       "}\n",
       "#T_9772d_row4_col1 {\n",
       "  background-color: #63a2cb;\n",
       "  color: #f1f1f1;\n",
       "}\n",
       "#T_9772d_row4_col2 {\n",
       "  background-color: #f0eaf4;\n",
       "  color: #000000;\n",
       "}\n",
       "#T_9772d_row5_col1 {\n",
       "  background-color: #f1ebf4;\n",
       "  color: #000000;\n",
       "}\n",
       "#T_9772d_row5_col2 {\n",
       "  background-color: #fdf5fa;\n",
       "  color: #000000;\n",
       "}\n",
       "#T_9772d_row6_col1 {\n",
       "  background-color: #eee9f3;\n",
       "  color: #000000;\n",
       "}\n",
       "#T_9772d_row6_col2 {\n",
       "  background-color: #fcf4fa;\n",
       "  color: #000000;\n",
       "}\n",
       "</style>\n",
       "<table id=\"T_9772d\">\n",
       "  <thead>\n",
       "    <tr>\n",
       "      <th class=\"blank level0\" >&nbsp;</th>\n",
       "      <th id=\"T_9772d_level0_col0\" class=\"col_heading level0 col0\" >min</th>\n",
       "      <th id=\"T_9772d_level0_col1\" class=\"col_heading level0 col1\" >mean</th>\n",
       "      <th id=\"T_9772d_level0_col2\" class=\"col_heading level0 col2\" >std</th>\n",
       "      <th id=\"T_9772d_level0_col3\" class=\"col_heading level0 col3\" >max</th>\n",
       "    </tr>\n",
       "  </thead>\n",
       "  <tbody>\n",
       "    <tr>\n",
       "      <th id=\"T_9772d_level0_row0\" class=\"row_heading level0 row0\" >carat</th>\n",
       "      <td id=\"T_9772d_row0_col0\" class=\"data row0 col0\" >0.200000</td>\n",
       "      <td id=\"T_9772d_row0_col1\" class=\"data row0 col1\" >0.797940</td>\n",
       "      <td id=\"T_9772d_row0_col2\" class=\"data row0 col2\" >0.474011</td>\n",
       "      <td id=\"T_9772d_row0_col3\" class=\"data row0 col3\" >5.010000</td>\n",
       "    </tr>\n",
       "    <tr>\n",
       "      <th id=\"T_9772d_level0_row1\" class=\"row_heading level0 row1\" >depth</th>\n",
       "      <td id=\"T_9772d_row1_col0\" class=\"data row1 col0\" >43.000000</td>\n",
       "      <td id=\"T_9772d_row1_col1\" class=\"data row1 col1\" >61.749405</td>\n",
       "      <td id=\"T_9772d_row1_col2\" class=\"data row1 col2\" >1.432621</td>\n",
       "      <td id=\"T_9772d_row1_col3\" class=\"data row1 col3\" >79.000000</td>\n",
       "    </tr>\n",
       "    <tr>\n",
       "      <th id=\"T_9772d_level0_row2\" class=\"row_heading level0 row2\" >table</th>\n",
       "      <td id=\"T_9772d_row2_col0\" class=\"data row2 col0\" >43.000000</td>\n",
       "      <td id=\"T_9772d_row2_col1\" class=\"data row2 col1\" >57.457184</td>\n",
       "      <td id=\"T_9772d_row2_col2\" class=\"data row2 col2\" >2.234491</td>\n",
       "      <td id=\"T_9772d_row2_col3\" class=\"data row2 col3\" >95.000000</td>\n",
       "    </tr>\n",
       "    <tr>\n",
       "      <th id=\"T_9772d_level0_row3\" class=\"row_heading level0 row3\" >price</th>\n",
       "      <td id=\"T_9772d_row3_col0\" class=\"data row3 col0\" >326.000000</td>\n",
       "      <td id=\"T_9772d_row3_col1\" class=\"data row3 col1\" >3932.799722</td>\n",
       "      <td id=\"T_9772d_row3_col2\" class=\"data row3 col2\" >3989.439738</td>\n",
       "      <td id=\"T_9772d_row3_col3\" class=\"data row3 col3\" >18823.000000</td>\n",
       "    </tr>\n",
       "    <tr>\n",
       "      <th id=\"T_9772d_level0_row4\" class=\"row_heading level0 row4\" >x</th>\n",
       "      <td id=\"T_9772d_row4_col0\" class=\"data row4 col0\" >0.000000</td>\n",
       "      <td id=\"T_9772d_row4_col1\" class=\"data row4 col1\" >5.731157</td>\n",
       "      <td id=\"T_9772d_row4_col2\" class=\"data row4 col2\" >1.121761</td>\n",
       "      <td id=\"T_9772d_row4_col3\" class=\"data row4 col3\" >10.740000</td>\n",
       "    </tr>\n",
       "    <tr>\n",
       "      <th id=\"T_9772d_level0_row5\" class=\"row_heading level0 row5\" >y</th>\n",
       "      <td id=\"T_9772d_row5_col0\" class=\"data row5 col0\" >0.000000</td>\n",
       "      <td id=\"T_9772d_row5_col1\" class=\"data row5 col1\" >5.734526</td>\n",
       "      <td id=\"T_9772d_row5_col2\" class=\"data row5 col2\" >1.142135</td>\n",
       "      <td id=\"T_9772d_row5_col3\" class=\"data row5 col3\" >58.900000</td>\n",
       "    </tr>\n",
       "    <tr>\n",
       "      <th id=\"T_9772d_level0_row6\" class=\"row_heading level0 row6\" >z</th>\n",
       "      <td id=\"T_9772d_row6_col0\" class=\"data row6 col0\" >0.000000</td>\n",
       "      <td id=\"T_9772d_row6_col1\" class=\"data row6 col1\" >3.538734</td>\n",
       "      <td id=\"T_9772d_row6_col2\" class=\"data row6 col2\" >0.705699</td>\n",
       "      <td id=\"T_9772d_row6_col3\" class=\"data row6 col3\" >31.800000</td>\n",
       "    </tr>\n",
       "  </tbody>\n",
       "</table>\n"
      ],
      "text/plain": [
       "<pandas.io.formats.style.Styler at 0x1f513567810>"
      ]
     },
     "execution_count": 8,
     "metadata": {},
     "output_type": "execute_result"
    }
   ],
   "source": [
    "data[non_categoricals].describe().loc[['min', 'mean', 'std', 'max']].T.style.background_gradient(axis=1)"
   ]
  },
  {
   "cell_type": "code",
   "execution_count": 9,
   "id": "80b683c2-28bc-4052-afa9-0c8b8f76f748",
   "metadata": {},
   "outputs": [
    {
     "data": {
      "text/html": [
       "<div>\n",
       "<style scoped>\n",
       "    .dataframe tbody tr th:only-of-type {\n",
       "        vertical-align: middle;\n",
       "    }\n",
       "\n",
       "    .dataframe tbody tr th {\n",
       "        vertical-align: top;\n",
       "    }\n",
       "\n",
       "    .dataframe thead th {\n",
       "        text-align: right;\n",
       "    }\n",
       "</style>\n",
       "<table border=\"1\" class=\"dataframe\">\n",
       "  <thead>\n",
       "    <tr style=\"text-align: right;\">\n",
       "      <th></th>\n",
       "      <th>count</th>\n",
       "      <th>unique</th>\n",
       "      <th>top</th>\n",
       "      <th>freq</th>\n",
       "    </tr>\n",
       "  </thead>\n",
       "  <tbody>\n",
       "    <tr>\n",
       "      <th>cut</th>\n",
       "      <td>53940</td>\n",
       "      <td>5</td>\n",
       "      <td>Ideal</td>\n",
       "      <td>21551</td>\n",
       "    </tr>\n",
       "    <tr>\n",
       "      <th>color</th>\n",
       "      <td>53940</td>\n",
       "      <td>7</td>\n",
       "      <td>G</td>\n",
       "      <td>11292</td>\n",
       "    </tr>\n",
       "    <tr>\n",
       "      <th>clarity</th>\n",
       "      <td>53940</td>\n",
       "      <td>8</td>\n",
       "      <td>SI1</td>\n",
       "      <td>13065</td>\n",
       "    </tr>\n",
       "  </tbody>\n",
       "</table>\n",
       "</div>"
      ],
      "text/plain": [
       "         count unique    top   freq\n",
       "cut      53940      5  Ideal  21551\n",
       "color    53940      7      G  11292\n",
       "clarity  53940      8    SI1  13065"
      ]
     },
     "execution_count": 9,
     "metadata": {},
     "output_type": "execute_result"
    }
   ],
   "source": [
    "data[categoricals].describe().T"
   ]
  },
  {
   "cell_type": "code",
   "execution_count": 10,
   "id": "e38e28b9-299a-42ec-a589-4cb6da573b39",
   "metadata": {},
   "outputs": [
    {
     "data": {
      "text/plain": [
       "carat      0\n",
       "cut        0\n",
       "color      0\n",
       "clarity    0\n",
       "depth      0\n",
       "table      0\n",
       "price      0\n",
       "x          0\n",
       "y          0\n",
       "z          0\n",
       "dtype: int64"
      ]
     },
     "execution_count": 10,
     "metadata": {},
     "output_type": "execute_result"
    }
   ],
   "source": [
    "data.isna().sum()"
   ]
  },
  {
   "cell_type": "code",
   "execution_count": 11,
   "id": "651ffff5-03ad-4fda-a31f-8bd26f7ce014",
   "metadata": {},
   "outputs": [],
   "source": [
    "# # Plot for categorical values\n",
    "# fig, ax = plt.subplots(3, 1, figsize=(15, 15))\n",
    "# plt.subplots_adjust(hspace = 0.5)\n",
    "# for i in range(len(categoricals)) :\n",
    "#     sns.countplot(x=categoricals[i], data=data[categoricals], ax=ax[i], palette='turbo').set_title(categoricals[i], fontsize=20, fontweight='bold')\n",
    "#     for container in ax[i].containers:\n",
    "#         ax[i].bar_label(container)"
   ]
  },
  {
   "cell_type": "code",
   "execution_count": null,
   "id": "813622e0-5838-4641-a1ef-2fab518f0348",
   "metadata": {},
   "outputs": [],
   "source": []
  },
  {
   "cell_type": "code",
   "execution_count": 12,
   "id": "7758be1f-3b3e-454a-bb29-d3a5afc0f1ba",
   "metadata": {},
   "outputs": [],
   "source": [
    "# # Plot for categorical values\n",
    "# fig, ax = plt.subplots(7, 1, figsize=(15, 20))\n",
    "# plt.subplots_adjust(hspace = 0.5)\n",
    "# for i in range(len(non_categoricals)) :\n",
    "#     sns.boxplot(x=non_categoricals[i], data=data[non_categoricals], ax=ax[i]).set_title(non_categoricals[i], fontsize=15, fontweight='bold')"
   ]
  },
  {
   "cell_type": "code",
   "execution_count": 13,
   "id": "d52edb3c-a0d6-49b4-aae0-f4eb9ec765c7",
   "metadata": {},
   "outputs": [
    {
     "name": "stdout",
     "output_type": "stream",
     "text": [
      "\u001b[34m20 samles deleted\u001b[0m\n"
     ]
    }
   ],
   "source": [
    "len1 = len(data)\n",
    "condition1 = data.x > 0\n",
    "condition2 = data.y > 0\n",
    "condition3 = data.z > 0\n",
    "\n",
    "data = data[condition1]\n",
    "data = data[condition2]\n",
    "data = data[condition3]\n",
    "\n",
    "len2 = len(data)\n",
    "print(colored('{} samles deleted'.format(len1-len2), 'blue'))"
   ]
  },
  {
   "cell_type": "code",
   "execution_count": 14,
   "id": "8aa422fa-5f31-4734-b0ae-925fe2c9d874",
   "metadata": {},
   "outputs": [],
   "source": [
    "data = data.reset_index(drop=True)"
   ]
  },
  {
   "cell_type": "code",
   "execution_count": 15,
   "id": "f0b16eb6-e928-4b55-9ebf-833a8388070f",
   "metadata": {},
   "outputs": [],
   "source": [
    "# corr = data[non_categoricals].corr()\n",
    "# plt.figure(figsize=(10, 5))\n",
    "# sns.heatmap(corr, annot=True, fmt='.2f', linewidths=0.5, linecolor='white', mask=np.triu(corr), cmap='Blues')\n",
    "# plt.show()"
   ]
  },
  {
   "cell_type": "code",
   "execution_count": 16,
   "id": "29ec75ec-8347-4ef8-b8da-a5e0e877cd09",
   "metadata": {},
   "outputs": [],
   "source": [
    "# sns.pairplot(data, hue='price', corner=True, palette='Blues')\n",
    "# plt.show()"
   ]
  },
  {
   "cell_type": "code",
   "execution_count": null,
   "id": "55a61101-1723-40d6-ac5f-1005431bd584",
   "metadata": {},
   "outputs": [],
   "source": []
  },
  {
   "cell_type": "markdown",
   "id": "d55c8481-3ee8-4378-bf9e-461ea8a0ab6e",
   "metadata": {},
   "source": [
    "# replace categorical values by integers"
   ]
  },
  {
   "cell_type": "code",
   "execution_count": 17,
   "id": "21e42c33-7183-4a4e-896a-1b0c7baeca39",
   "metadata": {},
   "outputs": [
    {
     "data": {
      "text/plain": [
       "['cut', 'color', 'clarity']"
      ]
     },
     "execution_count": 17,
     "metadata": {},
     "output_type": "execute_result"
    }
   ],
   "source": [
    "categoricals"
   ]
  },
  {
   "cell_type": "markdown",
   "id": "8fc5e73b-2116-46b1-9613-2e85193b4c57",
   "metadata": {},
   "source": [
    "### cut"
   ]
  },
  {
   "cell_type": "code",
   "execution_count": 18,
   "id": "6a552e2a-2db8-4a0a-aabd-b2db00a79edc",
   "metadata": {},
   "outputs": [
    {
     "data": {
      "text/plain": [
       "cut\n",
       "Ideal        21548\n",
       "Premium      13780\n",
       "Very Good    12081\n",
       "Good          4902\n",
       "Fair          1609\n",
       "Name: count, dtype: int64"
      ]
     },
     "execution_count": 18,
     "metadata": {},
     "output_type": "execute_result"
    }
   ],
   "source": [
    "data.cut.value_counts()"
   ]
  },
  {
   "cell_type": "code",
   "execution_count": 19,
   "id": "e5334240-9bca-4670-bb90-c0392fb0aff9",
   "metadata": {},
   "outputs": [],
   "source": [
    "cut_vaues = {\n",
    "            'Ideal' :  1,\n",
    "            'Premium' : 2,\n",
    "            'Very Good' : 3,\n",
    "            'Good' : 4,\n",
    "            'Fair': 5,\n",
    "}\n",
    "\n",
    "data.cut = data.cut.replace(cut_vaues)"
   ]
  },
  {
   "cell_type": "markdown",
   "id": "d2460f76-c7b0-4eef-a660-e4958d3e47cc",
   "metadata": {},
   "source": [
    "### color"
   ]
  },
  {
   "cell_type": "code",
   "execution_count": 20,
   "id": "ae6bc22c-d591-49be-8625-e77d37d1a05d",
   "metadata": {},
   "outputs": [
    {
     "data": {
      "text/plain": [
       "color\n",
       "G    11284\n",
       "E     9797\n",
       "F     9538\n",
       "H     8298\n",
       "D     6774\n",
       "I     5421\n",
       "J     2808\n",
       "Name: count, dtype: int64"
      ]
     },
     "execution_count": 20,
     "metadata": {},
     "output_type": "execute_result"
    }
   ],
   "source": [
    "data.color.value_counts()"
   ]
  },
  {
   "cell_type": "code",
   "execution_count": 21,
   "id": "4e39295f-8c59-48b2-aa14-56f18665b9ce",
   "metadata": {},
   "outputs": [],
   "source": [
    "color_values = {\n",
    "                'G' : 1,\n",
    "                'E' : 2,\n",
    "                'F' : 3,\n",
    "                'H' : 4,\n",
    "                'D' : 5,\n",
    "                'I' : 6,\n",
    "                'J' : 7,\n",
    "}\n",
    "data.color = data.color.replace(color_values)"
   ]
  },
  {
   "cell_type": "markdown",
   "id": "8b84cdd8-3eb7-40f1-8daa-50629b553cce",
   "metadata": {},
   "source": [
    "### clarity"
   ]
  },
  {
   "cell_type": "code",
   "execution_count": 22,
   "id": "1ec360b0-37ac-4101-b457-1ded35fc6200",
   "metadata": {},
   "outputs": [
    {
     "data": {
      "text/plain": [
       "clarity\n",
       "SI1     13063\n",
       "VS2     12254\n",
       "SI2      9185\n",
       "VS1      8170\n",
       "VVS2     5066\n",
       "VVS1     3654\n",
       "IF       1790\n",
       "I1        738\n",
       "Name: count, dtype: int64"
      ]
     },
     "execution_count": 22,
     "metadata": {},
     "output_type": "execute_result"
    }
   ],
   "source": [
    "data.clarity.value_counts()"
   ]
  },
  {
   "cell_type": "code",
   "execution_count": 23,
   "id": "5004f269-7503-4c41-ba96-b70cbb399bc7",
   "metadata": {},
   "outputs": [],
   "source": [
    "clarity_values = {\n",
    "                'SI1' : 1,\n",
    "                'VS2' : 2,\n",
    "                'SI2' : 3,\n",
    "                'VS1' : 4,\n",
    "                'VVS2' : 5,\n",
    "                'VVS1' : 6,\n",
    "                'IF' : 7,\n",
    "                'I1' : 8\n",
    "}\n",
    "data.clarity = data.clarity.replace(clarity_values)"
   ]
  },
  {
   "cell_type": "code",
   "execution_count": 24,
   "id": "80753bd4-cc35-47b5-b9b4-6e0c3b8077f2",
   "metadata": {},
   "outputs": [
    {
     "name": "stdout",
     "output_type": "stream",
     "text": [
      "\u001b[32mAll categorical datas replaced with integer values\u001b[0m\n"
     ]
    }
   ],
   "source": [
    "print(colored('All categorical datas replaced with integer values', 'green'))"
   ]
  },
  {
   "cell_type": "code",
   "execution_count": 25,
   "id": "04a1bcf8-3724-429a-b199-cd8d9caaa8f6",
   "metadata": {},
   "outputs": [],
   "source": [
    "X = data.drop(columns='price')\n",
    "y = data.price"
   ]
  },
  {
   "cell_type": "markdown",
   "id": "d3101778-ea3f-433d-be25-b71a4b76834b",
   "metadata": {},
   "source": [
    "# Normalization"
   ]
  },
  {
   "cell_type": "code",
   "execution_count": 26,
   "id": "e9deec63-906b-4467-96b0-1d814a7df467",
   "metadata": {},
   "outputs": [],
   "source": [
    "scaler = MinMaxScaler(feature_range=(0, 1)).fit_transform(X)\n",
    "df = pd.DataFrame(scaler, columns=X.columns)"
   ]
  },
  {
   "cell_type": "code",
   "execution_count": 27,
   "id": "92a8fd79-7137-4d98-8325-717f74b43661",
   "metadata": {},
   "outputs": [
    {
     "data": {
      "text/html": [
       "<style type=\"text/css\">\n",
       "#T_98fa5_row0_col0, #T_98fa5_row0_col1, #T_98fa5_row0_col2, #T_98fa5_row0_col3, #T_98fa5_row0_col4, #T_98fa5_row0_col5, #T_98fa5_row0_col6, #T_98fa5_row0_col7, #T_98fa5_row0_col8 {\n",
       "  background-color: #fff7fb;\n",
       "  color: #000000;\n",
       "}\n",
       "#T_98fa5_row1_col0, #T_98fa5_row2_col0 {\n",
       "  background-color: #f0eaf4;\n",
       "  color: #000000;\n",
       "}\n",
       "#T_98fa5_row1_col1, #T_98fa5_row2_col6 {\n",
       "  background-color: #c6cce3;\n",
       "  color: #000000;\n",
       "}\n",
       "#T_98fa5_row1_col2 {\n",
       "  background-color: #bfc9e1;\n",
       "  color: #000000;\n",
       "}\n",
       "#T_98fa5_row1_col3 {\n",
       "  background-color: #ced0e6;\n",
       "  color: #000000;\n",
       "}\n",
       "#T_98fa5_row1_col4, #T_98fa5_row1_col5 {\n",
       "  background-color: #f9f2f8;\n",
       "  color: #000000;\n",
       "}\n",
       "#T_98fa5_row1_col6 {\n",
       "  background-color: #e5e1ef;\n",
       "  color: #000000;\n",
       "}\n",
       "#T_98fa5_row1_col7, #T_98fa5_row1_col8 {\n",
       "  background-color: #fcf4fa;\n",
       "  color: #000000;\n",
       "}\n",
       "#T_98fa5_row2_col1 {\n",
       "  background-color: #d0d1e6;\n",
       "  color: #000000;\n",
       "}\n",
       "#T_98fa5_row2_col2 {\n",
       "  background-color: #b4c4df;\n",
       "  color: #000000;\n",
       "}\n",
       "#T_98fa5_row2_col3 {\n",
       "  background-color: #c4cbe3;\n",
       "  color: #000000;\n",
       "}\n",
       "#T_98fa5_row2_col4 {\n",
       "  background-color: #69a5cc;\n",
       "  color: #f1f1f1;\n",
       "}\n",
       "#T_98fa5_row2_col5 {\n",
       "  background-color: #cacee5;\n",
       "  color: #000000;\n",
       "}\n",
       "#T_98fa5_row2_col7 {\n",
       "  background-color: #faf2f8;\n",
       "  color: #000000;\n",
       "}\n",
       "#T_98fa5_row2_col8 {\n",
       "  background-color: #f3edf5;\n",
       "  color: #000000;\n",
       "}\n",
       "#T_98fa5_row3_col0, #T_98fa5_row3_col1, #T_98fa5_row3_col2, #T_98fa5_row3_col3, #T_98fa5_row3_col4, #T_98fa5_row3_col5, #T_98fa5_row3_col6, #T_98fa5_row3_col7, #T_98fa5_row3_col8 {\n",
       "  background-color: #023858;\n",
       "  color: #f1f1f1;\n",
       "}\n",
       "</style>\n",
       "<table id=\"T_98fa5\">\n",
       "  <thead>\n",
       "    <tr>\n",
       "      <th class=\"blank level0\" >&nbsp;</th>\n",
       "      <th id=\"T_98fa5_level0_col0\" class=\"col_heading level0 col0\" >carat</th>\n",
       "      <th id=\"T_98fa5_level0_col1\" class=\"col_heading level0 col1\" >cut</th>\n",
       "      <th id=\"T_98fa5_level0_col2\" class=\"col_heading level0 col2\" >color</th>\n",
       "      <th id=\"T_98fa5_level0_col3\" class=\"col_heading level0 col3\" >clarity</th>\n",
       "      <th id=\"T_98fa5_level0_col4\" class=\"col_heading level0 col4\" >depth</th>\n",
       "      <th id=\"T_98fa5_level0_col5\" class=\"col_heading level0 col5\" >table</th>\n",
       "      <th id=\"T_98fa5_level0_col6\" class=\"col_heading level0 col6\" >x</th>\n",
       "      <th id=\"T_98fa5_level0_col7\" class=\"col_heading level0 col7\" >y</th>\n",
       "      <th id=\"T_98fa5_level0_col8\" class=\"col_heading level0 col8\" >z</th>\n",
       "    </tr>\n",
       "  </thead>\n",
       "  <tbody>\n",
       "    <tr>\n",
       "      <th id=\"T_98fa5_level0_row0\" class=\"row_heading level0 row0\" >min</th>\n",
       "      <td id=\"T_98fa5_row0_col0\" class=\"data row0 col0\" >0.000000</td>\n",
       "      <td id=\"T_98fa5_row0_col1\" class=\"data row0 col1\" >0.000000</td>\n",
       "      <td id=\"T_98fa5_row0_col2\" class=\"data row0 col2\" >0.000000</td>\n",
       "      <td id=\"T_98fa5_row0_col3\" class=\"data row0 col3\" >0.000000</td>\n",
       "      <td id=\"T_98fa5_row0_col4\" class=\"data row0 col4\" >0.000000</td>\n",
       "      <td id=\"T_98fa5_row0_col5\" class=\"data row0 col5\" >0.000000</td>\n",
       "      <td id=\"T_98fa5_row0_col6\" class=\"data row0 col6\" >0.000000</td>\n",
       "      <td id=\"T_98fa5_row0_col7\" class=\"data row0 col7\" >0.000000</td>\n",
       "      <td id=\"T_98fa5_row0_col8\" class=\"data row0 col8\" >0.000000</td>\n",
       "    </tr>\n",
       "    <tr>\n",
       "      <th id=\"T_98fa5_level0_row1\" class=\"row_heading level0 row1\" >std</th>\n",
       "      <td id=\"T_98fa5_row1_col0\" class=\"data row1 col0\" >0.098502</td>\n",
       "      <td id=\"T_98fa5_row1_col1\" class=\"data row1 col1\" >0.279145</td>\n",
       "      <td id=\"T_98fa5_row1_col2\" class=\"data row1 col2\" >0.303417</td>\n",
       "      <td id=\"T_98fa5_row1_col3\" class=\"data row1 col3\" >0.255787</td>\n",
       "      <td id=\"T_98fa5_row1_col4\" class=\"data row1 col4\" >0.039787</td>\n",
       "      <td id=\"T_98fa5_row1_col5\" class=\"data row1 col5\" >0.042963</td>\n",
       "      <td id=\"T_98fa5_row1_col6\" class=\"data row1 col6\" >0.159689</td>\n",
       "      <td id=\"T_98fa5_row1_col7\" class=\"data row1 col7\" >0.020647</td>\n",
       "      <td id=\"T_98fa5_row1_col8\" class=\"data row1 col8\" >0.022861</td>\n",
       "    </tr>\n",
       "    <tr>\n",
       "      <th id=\"T_98fa5_level0_row2\" class=\"row_heading level0 row2\" >50%</th>\n",
       "      <td id=\"T_98fa5_row2_col0\" class=\"data row2 col0\" >0.103950</td>\n",
       "      <td id=\"T_98fa5_row2_col1\" class=\"data row2 col1\" >0.250000</td>\n",
       "      <td id=\"T_98fa5_row2_col2\" class=\"data row2 col2\" >0.333333</td>\n",
       "      <td id=\"T_98fa5_row2_col3\" class=\"data row2 col3\" >0.285714</td>\n",
       "      <td id=\"T_98fa5_row2_col4\" class=\"data row2 col4\" >0.522222</td>\n",
       "      <td id=\"T_98fa5_row2_col5\" class=\"data row2 col5\" >0.269231</td>\n",
       "      <td id=\"T_98fa5_row2_col6\" class=\"data row2 col6\" >0.281027</td>\n",
       "      <td id=\"T_98fa5_row2_col7\" class=\"data row2 col7\" >0.036762</td>\n",
       "      <td id=\"T_98fa5_row2_col8\" class=\"data row2 col8\" >0.080052</td>\n",
       "    </tr>\n",
       "    <tr>\n",
       "      <th id=\"T_98fa5_level0_row3\" class=\"row_heading level0 row3\" >max</th>\n",
       "      <td id=\"T_98fa5_row3_col0\" class=\"data row3 col0\" >1.000000</td>\n",
       "      <td id=\"T_98fa5_row3_col1\" class=\"data row3 col1\" >1.000000</td>\n",
       "      <td id=\"T_98fa5_row3_col2\" class=\"data row3 col2\" >1.000000</td>\n",
       "      <td id=\"T_98fa5_row3_col3\" class=\"data row3 col3\" >1.000000</td>\n",
       "      <td id=\"T_98fa5_row3_col4\" class=\"data row3 col4\" >1.000000</td>\n",
       "      <td id=\"T_98fa5_row3_col5\" class=\"data row3 col5\" >1.000000</td>\n",
       "      <td id=\"T_98fa5_row3_col6\" class=\"data row3 col6\" >1.000000</td>\n",
       "      <td id=\"T_98fa5_row3_col7\" class=\"data row3 col7\" >1.000000</td>\n",
       "      <td id=\"T_98fa5_row3_col8\" class=\"data row3 col8\" >1.000000</td>\n",
       "    </tr>\n",
       "  </tbody>\n",
       "</table>\n"
      ],
      "text/plain": [
       "<pandas.io.formats.style.Styler at 0x1f513787590>"
      ]
     },
     "execution_count": 27,
     "metadata": {},
     "output_type": "execute_result"
    }
   ],
   "source": [
    "df.describe().loc[['min', 'std', '50%', 'max']].style.background_gradient(axis=0)"
   ]
  },
  {
   "cell_type": "code",
   "execution_count": 28,
   "id": "747851be-399b-44d0-b218-49aa4f2fc0e8",
   "metadata": {},
   "outputs": [],
   "source": [
    "X_train, X_test, y_train, y_test = train_test_split(X, y, random_state=0, test_size=0.20)"
   ]
  },
  {
   "cell_type": "code",
   "execution_count": 29,
   "id": "71d9b2e8-dc82-4268-9d33-40b2ef8e11fa",
   "metadata": {},
   "outputs": [
    {
     "data": {
      "text/plain": [
       "(43136, 9)"
      ]
     },
     "execution_count": 29,
     "metadata": {},
     "output_type": "execute_result"
    }
   ],
   "source": [
    "X_train.shape"
   ]
  },
  {
   "cell_type": "code",
   "execution_count": null,
   "id": "104cabb7-4856-4127-ae38-739211001a6c",
   "metadata": {},
   "outputs": [],
   "source": []
  },
  {
   "cell_type": "markdown",
   "id": "5a51299f-ab85-4079-9502-c445df37fba7",
   "metadata": {},
   "source": [
    "# RandomForestRegressor"
   ]
  },
  {
   "cell_type": "code",
   "execution_count": 37,
   "id": "04aaaa8c-a61f-4bba-b62e-a7bce85bb488",
   "metadata": {},
   "outputs": [],
   "source": [
    "# a dictionary to define parameters to test in algorithm\n",
    "parameters = {'criterion': 'squared_error', 'max_features': 'log2', 'n_estimators': 100, 'n_jobs': -1}\n",
    "\n",
    "rf = RandomForestRegressor()\n",
    "# rf_cv = GridSearchCV(estimator=rf, param_grid=parameters, cv=20).fit(X_train, y_train)\n",
    "# print(colored('Tuned hyper parameters :\\n{}'.format(rf_cv.best_params_), 'blue'))"
   ]
  },
  {
   "cell_type": "code",
   "execution_count": 38,
   "id": "14710b27-057c-4515-8cd2-965c2547f133",
   "metadata": {},
   "outputs": [
    {
     "ename": "TypeError",
     "evalue": "Parameter grid for parameter 'criterion' needs to be a list or a numpy array, but got 'squared_error' (of type str) instead. Single values need to be wrapped in a list with one element.",
     "output_type": "error",
     "traceback": [
      "\u001b[1;31m---------------------------------------------------------------------------\u001b[0m",
      "\u001b[1;31mTypeError\u001b[0m                                 Traceback (most recent call last)",
      "Cell \u001b[1;32mIn[38], line 1\u001b[0m\n\u001b[1;32m----> 1\u001b[0m rf_cv \u001b[38;5;241m=\u001b[39m \u001b[43mGridSearchCV\u001b[49m\u001b[43m(\u001b[49m\u001b[43mestimator\u001b[49m\u001b[38;5;241;43m=\u001b[39;49m\u001b[43mrf\u001b[49m\u001b[43m,\u001b[49m\u001b[43m \u001b[49m\u001b[43mparam_grid\u001b[49m\u001b[38;5;241;43m=\u001b[39;49m\u001b[43mparameters\u001b[49m\u001b[43m,\u001b[49m\u001b[43m \u001b[49m\u001b[43mcv\u001b[49m\u001b[38;5;241;43m=\u001b[39;49m\u001b[38;5;241;43m20\u001b[39;49m\u001b[43m)\u001b[49m\u001b[38;5;241;43m.\u001b[39;49m\u001b[43mfit\u001b[49m\u001b[43m(\u001b[49m\u001b[43mX_train\u001b[49m\u001b[43m,\u001b[49m\u001b[43m \u001b[49m\u001b[43my_train\u001b[49m\u001b[43m)\u001b[49m\n",
      "File \u001b[1;32mC:\\Program Files\\Python311\\Lib\\site-packages\\sklearn\\base.py:1152\u001b[0m, in \u001b[0;36m_fit_context.<locals>.decorator.<locals>.wrapper\u001b[1;34m(estimator, *args, **kwargs)\u001b[0m\n\u001b[0;32m   1145\u001b[0m     estimator\u001b[38;5;241m.\u001b[39m_validate_params()\n\u001b[0;32m   1147\u001b[0m \u001b[38;5;28;01mwith\u001b[39;00m config_context(\n\u001b[0;32m   1148\u001b[0m     skip_parameter_validation\u001b[38;5;241m=\u001b[39m(\n\u001b[0;32m   1149\u001b[0m         prefer_skip_nested_validation \u001b[38;5;129;01mor\u001b[39;00m global_skip_validation\n\u001b[0;32m   1150\u001b[0m     )\n\u001b[0;32m   1151\u001b[0m ):\n\u001b[1;32m-> 1152\u001b[0m     \u001b[38;5;28;01mreturn\u001b[39;00m \u001b[43mfit_method\u001b[49m\u001b[43m(\u001b[49m\u001b[43mestimator\u001b[49m\u001b[43m,\u001b[49m\u001b[43m \u001b[49m\u001b[38;5;241;43m*\u001b[39;49m\u001b[43margs\u001b[49m\u001b[43m,\u001b[49m\u001b[43m \u001b[49m\u001b[38;5;241;43m*\u001b[39;49m\u001b[38;5;241;43m*\u001b[39;49m\u001b[43mkwargs\u001b[49m\u001b[43m)\u001b[49m\n",
      "File \u001b[1;32mC:\\Program Files\\Python311\\Lib\\site-packages\\sklearn\\model_selection\\_search.py:898\u001b[0m, in \u001b[0;36mBaseSearchCV.fit\u001b[1;34m(self, X, y, groups, **fit_params)\u001b[0m\n\u001b[0;32m    892\u001b[0m     results \u001b[38;5;241m=\u001b[39m \u001b[38;5;28mself\u001b[39m\u001b[38;5;241m.\u001b[39m_format_results(\n\u001b[0;32m    893\u001b[0m         all_candidate_params, n_splits, all_out, all_more_results\n\u001b[0;32m    894\u001b[0m     )\n\u001b[0;32m    896\u001b[0m     \u001b[38;5;28;01mreturn\u001b[39;00m results\n\u001b[1;32m--> 898\u001b[0m \u001b[38;5;28;43mself\u001b[39;49m\u001b[38;5;241;43m.\u001b[39;49m\u001b[43m_run_search\u001b[49m\u001b[43m(\u001b[49m\u001b[43mevaluate_candidates\u001b[49m\u001b[43m)\u001b[49m\n\u001b[0;32m    900\u001b[0m \u001b[38;5;66;03m# multimetric is determined here because in the case of a callable\u001b[39;00m\n\u001b[0;32m    901\u001b[0m \u001b[38;5;66;03m# self.scoring the return type is only known after calling\u001b[39;00m\n\u001b[0;32m    902\u001b[0m first_test_score \u001b[38;5;241m=\u001b[39m all_out[\u001b[38;5;241m0\u001b[39m][\u001b[38;5;124m\"\u001b[39m\u001b[38;5;124mtest_scores\u001b[39m\u001b[38;5;124m\"\u001b[39m]\n",
      "File \u001b[1;32mC:\\Program Files\\Python311\\Lib\\site-packages\\sklearn\\model_selection\\_search.py:1422\u001b[0m, in \u001b[0;36mGridSearchCV._run_search\u001b[1;34m(self, evaluate_candidates)\u001b[0m\n\u001b[0;32m   1420\u001b[0m \u001b[38;5;28;01mdef\u001b[39;00m \u001b[38;5;21m_run_search\u001b[39m(\u001b[38;5;28mself\u001b[39m, evaluate_candidates):\n\u001b[0;32m   1421\u001b[0m \u001b[38;5;250m    \u001b[39m\u001b[38;5;124;03m\"\"\"Search all candidates in param_grid\"\"\"\u001b[39;00m\n\u001b[1;32m-> 1422\u001b[0m     evaluate_candidates(\u001b[43mParameterGrid\u001b[49m\u001b[43m(\u001b[49m\u001b[38;5;28;43mself\u001b[39;49m\u001b[38;5;241;43m.\u001b[39;49m\u001b[43mparam_grid\u001b[49m\u001b[43m)\u001b[49m)\n",
      "File \u001b[1;32mC:\\Program Files\\Python311\\Lib\\site-packages\\sklearn\\model_selection\\_search.py:119\u001b[0m, in \u001b[0;36mParameterGrid.__init__\u001b[1;34m(self, param_grid)\u001b[0m\n\u001b[0;32m    112\u001b[0m     \u001b[38;5;28;01mraise\u001b[39;00m \u001b[38;5;167;01mValueError\u001b[39;00m(\n\u001b[0;32m    113\u001b[0m         \u001b[38;5;124mf\u001b[39m\u001b[38;5;124m\"\u001b[39m\u001b[38;5;124mParameter array for \u001b[39m\u001b[38;5;132;01m{\u001b[39;00mkey\u001b[38;5;132;01m!r}\u001b[39;00m\u001b[38;5;124m should be one-dimensional, got:\u001b[39m\u001b[38;5;124m\"\u001b[39m\n\u001b[0;32m    114\u001b[0m         \u001b[38;5;124mf\u001b[39m\u001b[38;5;124m\"\u001b[39m\u001b[38;5;124m \u001b[39m\u001b[38;5;132;01m{\u001b[39;00mvalue\u001b[38;5;132;01m!r}\u001b[39;00m\u001b[38;5;124m with shape \u001b[39m\u001b[38;5;132;01m{\u001b[39;00mvalue\u001b[38;5;241m.\u001b[39mshape\u001b[38;5;132;01m}\u001b[39;00m\u001b[38;5;124m\"\u001b[39m\n\u001b[0;32m    115\u001b[0m     )\n\u001b[0;32m    116\u001b[0m \u001b[38;5;28;01mif\u001b[39;00m \u001b[38;5;28misinstance\u001b[39m(value, \u001b[38;5;28mstr\u001b[39m) \u001b[38;5;129;01mor\u001b[39;00m \u001b[38;5;129;01mnot\u001b[39;00m \u001b[38;5;28misinstance\u001b[39m(\n\u001b[0;32m    117\u001b[0m     value, (np\u001b[38;5;241m.\u001b[39mndarray, Sequence)\n\u001b[0;32m    118\u001b[0m ):\n\u001b[1;32m--> 119\u001b[0m     \u001b[38;5;28;01mraise\u001b[39;00m \u001b[38;5;167;01mTypeError\u001b[39;00m(\n\u001b[0;32m    120\u001b[0m         \u001b[38;5;124mf\u001b[39m\u001b[38;5;124m\"\u001b[39m\u001b[38;5;124mParameter grid for parameter \u001b[39m\u001b[38;5;132;01m{\u001b[39;00mkey\u001b[38;5;132;01m!r}\u001b[39;00m\u001b[38;5;124m needs to be a list or a\u001b[39m\u001b[38;5;124m\"\u001b[39m\n\u001b[0;32m    121\u001b[0m         \u001b[38;5;124mf\u001b[39m\u001b[38;5;124m\"\u001b[39m\u001b[38;5;124m numpy array, but got \u001b[39m\u001b[38;5;132;01m{\u001b[39;00mvalue\u001b[38;5;132;01m!r}\u001b[39;00m\u001b[38;5;124m (of type \u001b[39m\u001b[38;5;124m\"\u001b[39m\n\u001b[0;32m    122\u001b[0m         \u001b[38;5;124mf\u001b[39m\u001b[38;5;124m\"\u001b[39m\u001b[38;5;132;01m{\u001b[39;00m\u001b[38;5;28mtype\u001b[39m(value)\u001b[38;5;241m.\u001b[39m\u001b[38;5;18m__name__\u001b[39m\u001b[38;5;132;01m}\u001b[39;00m\u001b[38;5;124m) instead. Single values \u001b[39m\u001b[38;5;124m\"\u001b[39m\n\u001b[0;32m    123\u001b[0m         \u001b[38;5;124m\"\u001b[39m\u001b[38;5;124mneed to be wrapped in a list with one element.\u001b[39m\u001b[38;5;124m\"\u001b[39m\n\u001b[0;32m    124\u001b[0m     )\n\u001b[0;32m    125\u001b[0m \u001b[38;5;28;01mif\u001b[39;00m \u001b[38;5;28mlen\u001b[39m(value) \u001b[38;5;241m==\u001b[39m \u001b[38;5;241m0\u001b[39m:\n\u001b[0;32m    126\u001b[0m     \u001b[38;5;28;01mraise\u001b[39;00m \u001b[38;5;167;01mValueError\u001b[39;00m(\n\u001b[0;32m    127\u001b[0m         \u001b[38;5;124mf\u001b[39m\u001b[38;5;124m\"\u001b[39m\u001b[38;5;124mParameter grid for parameter \u001b[39m\u001b[38;5;132;01m{\u001b[39;00mkey\u001b[38;5;132;01m!r}\u001b[39;00m\u001b[38;5;124m need \u001b[39m\u001b[38;5;124m\"\u001b[39m\n\u001b[0;32m    128\u001b[0m         \u001b[38;5;124mf\u001b[39m\u001b[38;5;124m\"\u001b[39m\u001b[38;5;124mto be a non-empty sequence, got: \u001b[39m\u001b[38;5;132;01m{\u001b[39;00mvalue\u001b[38;5;132;01m!r}\u001b[39;00m\u001b[38;5;124m\"\u001b[39m\n\u001b[0;32m    129\u001b[0m     )\n",
      "\u001b[1;31mTypeError\u001b[0m: Parameter grid for parameter 'criterion' needs to be a list or a numpy array, but got 'squared_error' (of type str) instead. Single values need to be wrapped in a list with one element."
     ]
    }
   ],
   "source": [
    "rf_cv = GridSearchCV(estimator=rf, param_grid=parameters, cv=20).fit(X_train, y_train)"
   ]
  },
  {
   "cell_type": "code",
   "execution_count": 31,
   "id": "c5e792f8-f5d4-4206-a926-03ed7860b11e",
   "metadata": {},
   "outputs": [],
   "source": [
    "mse = metrics.mean_squared_log_error(y_pred_rf, y_test)\n",
    "print(mse)"
   ]
  },
  {
   "cell_type": "code",
   "execution_count": null,
   "id": "55d3e50e-2096-4852-831a-a8649e574b60",
   "metadata": {},
   "outputs": [],
   "source": []
  }
 ],
 "metadata": {
  "kernelspec": {
   "display_name": "Python 3 (ipykernel)",
   "language": "python",
   "name": "python3"
  },
  "language_info": {
   "codemirror_mode": {
    "name": "ipython",
    "version": 3
   },
   "file_extension": ".py",
   "mimetype": "text/x-python",
   "name": "python",
   "nbconvert_exporter": "python",
   "pygments_lexer": "ipython3",
   "version": "3.11.7"
  }
 },
 "nbformat": 4,
 "nbformat_minor": 5
}
